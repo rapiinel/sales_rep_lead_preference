{
 "cells": [
  {
   "cell_type": "code",
   "execution_count": 1,
   "metadata": {},
   "outputs": [],
   "source": [
    "import pandas as pd\n",
    "import numpy as np\n",
    "import seaborn as sns"
   ]
  },
  {
   "cell_type": "code",
   "execution_count": 2,
   "metadata": {},
   "outputs": [],
   "source": [
    "df = pd.read_csv('raw\\salesforce salesrep lead pref - oppty v2 - lead type.csv')"
   ]
  },
  {
   "cell_type": "code",
   "execution_count": 3,
   "metadata": {},
   "outputs": [],
   "source": [
    "df.dropna(subset = ['Stage'], inplace = True)"
   ]
  },
  {
   "cell_type": "code",
   "execution_count": 4,
   "metadata": {},
   "outputs": [],
   "source": [
    "df = df[df['Stage'] == 'Deal']"
   ]
  },
  {
   "cell_type": "code",
   "execution_count": 5,
   "metadata": {},
   "outputs": [],
   "source": [
    "df['Lead Source - Type'] = df.apply(lambda x: str(x['Lead Source']) + \" - \" + str(x['Lead Source Type']), axis = 1)"
   ]
  },
  {
   "cell_type": "code",
   "execution_count": 11,
   "metadata": {},
   "outputs": [],
   "source": [
    "df.dropna(subset = ['CR Completed Position'], inplace=  True)"
   ]
  },
  {
   "cell_type": "code",
   "execution_count": 13,
   "metadata": {},
   "outputs": [],
   "source": [
    "lead_source = df.pivot_table(index = 'Lead Source - Type', values = 'Opportunity Name', aggfunc= 'count').sort_values(by = 'Opportunity Name', ascending= False)"
   ]
  },
  {
   "cell_type": "code",
   "execution_count": 15,
   "metadata": {},
   "outputs": [],
   "source": [
    "lead_source['Percentage'] = lead_source.apply(lambda x: x['Opportunity Name'] / lead_source.sum(), axis =1)"
   ]
  },
  {
   "cell_type": "code",
   "execution_count": 16,
   "metadata": {},
   "outputs": [
    {
     "data": {
      "text/html": [
       "<div>\n",
       "<style scoped>\n",
       "    .dataframe tbody tr th:only-of-type {\n",
       "        vertical-align: middle;\n",
       "    }\n",
       "\n",
       "    .dataframe tbody tr th {\n",
       "        vertical-align: top;\n",
       "    }\n",
       "\n",
       "    .dataframe thead th {\n",
       "        text-align: right;\n",
       "    }\n",
       "</style>\n",
       "<table border=\"1\" class=\"dataframe\">\n",
       "  <thead>\n",
       "    <tr style=\"text-align: right;\">\n",
       "      <th></th>\n",
       "      <th>Opportunity Name</th>\n",
       "      <th>Percentage</th>\n",
       "    </tr>\n",
       "    <tr>\n",
       "      <th>Lead Source - Type</th>\n",
       "      <th></th>\n",
       "      <th></th>\n",
       "    </tr>\n",
       "  </thead>\n",
       "  <tbody>\n",
       "    <tr>\n",
       "      <th>SELF GEN - nan</th>\n",
       "      <td>173</td>\n",
       "      <td>0.576667</td>\n",
       "    </tr>\n",
       "    <tr>\n",
       "      <th>AMRM Hand-off - nan</th>\n",
       "      <td>47</td>\n",
       "      <td>0.156667</td>\n",
       "    </tr>\n",
       "    <tr>\n",
       "      <th>HOTLEAD-LMWebForm - ORG</th>\n",
       "      <td>25</td>\n",
       "      <td>0.083333</td>\n",
       "    </tr>\n",
       "    <tr>\n",
       "      <th>HOTLEAD-Calendly - Corp Email Lead</th>\n",
       "      <td>10</td>\n",
       "      <td>0.033333</td>\n",
       "    </tr>\n",
       "    <tr>\n",
       "      <th>HOTLEAD-Calendly - Newsletter Lead</th>\n",
       "      <td>10</td>\n",
       "      <td>0.033333</td>\n",
       "    </tr>\n",
       "    <tr>\n",
       "      <th>HOTLEAD-LMWebForm - Google for HL</th>\n",
       "      <td>7</td>\n",
       "      <td>0.023333</td>\n",
       "    </tr>\n",
       "    <tr>\n",
       "      <th>HOTLEAD-LMWebForm - LinkedIn</th>\n",
       "      <td>7</td>\n",
       "      <td>0.023333</td>\n",
       "    </tr>\n",
       "    <tr>\n",
       "      <th>HOTLEAD-LinkedIn-LGF - LinkedIn</th>\n",
       "      <td>5</td>\n",
       "      <td>0.016667</td>\n",
       "    </tr>\n",
       "    <tr>\n",
       "      <th>HOTLEAD-Calendly - LinkedIn</th>\n",
       "      <td>4</td>\n",
       "      <td>0.013333</td>\n",
       "    </tr>\n",
       "    <tr>\n",
       "      <th>HOTLEAD-other - Instagram</th>\n",
       "      <td>4</td>\n",
       "      <td>0.013333</td>\n",
       "    </tr>\n",
       "    <tr>\n",
       "      <th>HOTLEAD-LMWebForm - Bing for Cases</th>\n",
       "      <td>2</td>\n",
       "      <td>0.006667</td>\n",
       "    </tr>\n",
       "    <tr>\n",
       "      <th>Refer a Colleague - nan</th>\n",
       "      <td>2</td>\n",
       "      <td>0.006667</td>\n",
       "    </tr>\n",
       "    <tr>\n",
       "      <th>Corp Email Lead - Corp Email Soft Lead</th>\n",
       "      <td>1</td>\n",
       "      <td>0.003333</td>\n",
       "    </tr>\n",
       "    <tr>\n",
       "      <th>Corp Email Lead - Newsletter Soft Lead</th>\n",
       "      <td>1</td>\n",
       "      <td>0.003333</td>\n",
       "    </tr>\n",
       "    <tr>\n",
       "      <th>HOTLEAD-LMWebForm - Google for Cases</th>\n",
       "      <td>1</td>\n",
       "      <td>0.003333</td>\n",
       "    </tr>\n",
       "    <tr>\n",
       "      <th>HOTLEAD-other - Facebook</th>\n",
       "      <td>1</td>\n",
       "      <td>0.003333</td>\n",
       "    </tr>\n",
       "  </tbody>\n",
       "</table>\n",
       "</div>"
      ],
      "text/plain": [
       "                                        Opportunity Name  Percentage\n",
       "Lead Source - Type                                                  \n",
       "SELF GEN - nan                                       173    0.576667\n",
       "AMRM Hand-off - nan                                   47    0.156667\n",
       "HOTLEAD-LMWebForm - ORG                               25    0.083333\n",
       "HOTLEAD-Calendly - Corp Email Lead                    10    0.033333\n",
       "HOTLEAD-Calendly - Newsletter Lead                    10    0.033333\n",
       "HOTLEAD-LMWebForm - Google for HL                      7    0.023333\n",
       "HOTLEAD-LMWebForm - LinkedIn                           7    0.023333\n",
       "HOTLEAD-LinkedIn-LGF - LinkedIn                        5    0.016667\n",
       "HOTLEAD-Calendly - LinkedIn                            4    0.013333\n",
       "HOTLEAD-other - Instagram                              4    0.013333\n",
       "HOTLEAD-LMWebForm - Bing for Cases                     2    0.006667\n",
       "Refer a Colleague - nan                                2    0.006667\n",
       "Corp Email Lead - Corp Email Soft Lead                 1    0.003333\n",
       "Corp Email Lead - Newsletter Soft Lead                 1    0.003333\n",
       "HOTLEAD-LMWebForm - Google for Cases                   1    0.003333\n",
       "HOTLEAD-other - Facebook                               1    0.003333"
      ]
     },
     "execution_count": 16,
     "metadata": {},
     "output_type": "execute_result"
    }
   ],
   "source": [
    "lead_source"
   ]
  },
  {
   "cell_type": "code",
   "execution_count": 19,
   "metadata": {},
   "outputs": [
    {
     "data": {
      "text/plain": [
       "0.2666666666666666"
      ]
     },
     "execution_count": 19,
     "metadata": {},
     "output_type": "execute_result"
    }
   ],
   "source": [
    "1 - lead_source['Percentage'].head(2).sum()"
   ]
  },
  {
   "cell_type": "code",
   "execution_count": 18,
   "metadata": {},
   "outputs": [
    {
     "data": {
      "text/plain": [
       "Opportunity Name    220.000000\n",
       "Percentage            0.733333\n",
       "dtype: float64"
      ]
     },
     "execution_count": 18,
     "metadata": {},
     "output_type": "execute_result"
    }
   ],
   "source": [
    "lead_source.head(2).sum()\n"
   ]
  },
  {
   "cell_type": "code",
   "execution_count": null,
   "metadata": {},
   "outputs": [],
   "source": []
  }
 ],
 "metadata": {
  "interpreter": {
   "hash": "ad2bdc8ecc057115af97d19610ffacc2b4e99fae6737bb82f5d7fb13d2f2c186"
  },
  "kernelspec": {
   "display_name": "Python 3.8.8 ('base')",
   "language": "python",
   "name": "python3"
  },
  "language_info": {
   "codemirror_mode": {
    "name": "ipython",
    "version": 3
   },
   "file_extension": ".py",
   "mimetype": "text/x-python",
   "name": "python",
   "nbconvert_exporter": "python",
   "pygments_lexer": "ipython3",
   "version": "3.8.8"
  },
  "orig_nbformat": 4
 },
 "nbformat": 4,
 "nbformat_minor": 2
}
